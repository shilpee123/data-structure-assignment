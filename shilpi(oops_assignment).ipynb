{
  "nbformat": 4,
  "nbformat_minor": 0,
  "metadata": {
    "colab": {
      "provenance": [],
      "authorship_tag": "ABX9TyPvtVQa9njA/e4lBkeH2fZL",
      "include_colab_link": true
    },
    "kernelspec": {
      "name": "python3",
      "display_name": "Python 3"
    },
    "language_info": {
      "name": "python"
    }
  },
  "cells": [
    {
      "cell_type": "markdown",
      "metadata": {
        "id": "view-in-github",
        "colab_type": "text"
      },
      "source": [
        "<a href=\"https://colab.research.google.com/github/shilpee123/data-structure-assignment/blob/main/shilpi(oops_assignment).ipynb\" target=\"_parent\"><img src=\"https://colab.research.google.com/assets/colab-badge.svg\" alt=\"Open In Colab\"/></a>"
      ]
    },
    {
      "cell_type": "markdown",
      "source": [
        "1.  explain the importance of function.\n",
        "\n",
        "1. Code Reusability:\n",
        "\n",
        "Avoids Redundancy: Functions allow you to write a block of code once and reuse it wherever needed. This reduces the need to write the same code multiple times, making your programs more concise and easier to maintain.\n"
      ],
      "metadata": {
        "id": "P49YcZKUA7Mr"
      }
    },
    {
      "cell_type": "code",
      "source": [
        "# 2. write a basic function to greet student.\n",
        "def greet_student(name):\n",
        "\n",
        "    print(f\"good morning, {name}\")\n",
        "greet_student(\"radha\")\n",
        "\n"
      ],
      "metadata": {
        "colab": {
          "base_uri": "https://localhost:8080/"
        },
        "id": "JRJPEZYtu_fO",
        "outputId": "76364bbc-aac7-4b78-83b8-1e66aab2c6ec"
      },
      "execution_count": null,
      "outputs": [
        {
          "output_type": "stream",
          "name": "stdout",
          "text": [
            "good morning, radha\n"
          ]
        }
      ]
    },
    {
      "cell_type": "markdown",
      "source": [
        " 3. what is diiference between print and return statement."
      ],
      "metadata": {
        "id": "N8JkB1xiF85n"
      }
    },
    {
      "cell_type": "markdown",
      "source": [
        "4. What are *arg and **kwargs?\n",
        "\n",
        "*args (Arbitrary Arguments):\n",
        "1. It allows a function to accept any number of positional argument\n",
        "2. the asterisk (*) before the parameter name is used to denote that it can take multiple arguments\n",
        "3.the arguments passed with  *args are treated as a tuple.\n",
        "\n",
        "**kwargs (Keyword Arguments):\n",
        "1. it allows a function to accept any number of keyword arguments.\n",
        "2. the double asterisk (**) before the parameter name is used to denote that can take multiple keyword arguments.\n",
        "3. the arguments passed with ** kwargs are treated as a dictionary."
      ],
      "metadata": {
        "id": "-f3l4-HQEZyw"
      }
    },
    {
      "cell_type": "markdown",
      "source": [
        "5. Explain the iterator function.\n",
        "\n",
        "Iterator in python is an object that used to iterate over iterable objects like lists,dicts,sets. The iterator object is initialized using the iter() method. It uses the next() method for iteration."
      ],
      "metadata": {
        "id": "d2gDq9jYIp2A"
      }
    },
    {
      "cell_type": "code",
      "source": [
        "# 6. Write a code that generates the square of numbers from 1 to n using a generator.\n",
        "def square_generator(n):\n",
        "\n",
        "    for i in range(1, n + 1):\n",
        "        yield i * i\n",
        "\n",
        "\n",
        "n = 10\n",
        "for square in square_generator(n):\n",
        "    print(square)\n"
      ],
      "metadata": {
        "id": "idBR0kfmvv2i"
      },
      "execution_count": null,
      "outputs": []
    },
    {
      "cell_type": "code",
      "source": [
        "# 7. Write a code that generates the palindromic numbers up to n using a generator.\n",
        "def palindromic_generator(n):\n",
        "\n",
        "    for i in range(1, n + 1):\n",
        "        if str(i) == str(i)[::-1]:\n",
        "            yield i\n",
        "\n",
        "\n",
        "n = 50\n",
        "for palindrome in palindromic_generator(n):\n",
        "    print(palindrome)\n"
      ],
      "metadata": {
        "id": "hAUXMzGivv1N"
      },
      "execution_count": null,
      "outputs": []
    },
    {
      "cell_type": "code",
      "source": [
        "# 8. Write a code that generates even numbers from 2 to n using a generator.\n",
        "def even_number_generator(n):\n",
        "\n",
        "    for i in range(2, n + 1):\n",
        "        if i % 2 == 0:\n",
        "            yield i\n",
        "\n",
        "\n",
        "n = 30\n",
        "for even_number in even_number_generator(n):\n",
        "    print(even_number)\n"
      ],
      "metadata": {
        "id": "FsBugWRVvvn3"
      },
      "execution_count": null,
      "outputs": []
    },
    {
      "cell_type": "code",
      "source": [
        "# 9. Write a code that generates power of two up to n using a generator.\n",
        "def power_of_two_generator(n):\n",
        "\n",
        "    power = 1\n",
        "    while power <= n:\n",
        "        yield power\n",
        "        power *= 2\n",
        "\n",
        "\n",
        "n = 50\n",
        "for power in power_of_two_generator(n):\n",
        "    print(power)\n"
      ],
      "metadata": {
        "id": "OPWvRyi5vvW6"
      },
      "execution_count": null,
      "outputs": []
    },
    {
      "cell_type": "code",
      "source": [
        "# 10. Write a code tha generates prime number up to n using a generator.\n",
        "def is_prime(number):\n",
        "\n",
        "    if number < 2:\n",
        "        return False\n",
        "    for i in range(2, int(number ** 0.5) + 1):\n",
        "        if number % i == 0:\n",
        "            return False\n",
        "    return True\n",
        "\n",
        "def prime_number_generator(n):\n",
        "\n",
        "    for num in range(2, n + 1):\n",
        "        if is_prime(num):\n",
        "            yield num\n",
        "\n",
        "\n",
        "n = 100\n",
        "for prime in prime_number_generator(n):\n",
        "    print(prime)\n"
      ],
      "metadata": {
        "id": "Y7dUjIJJvvCH"
      },
      "execution_count": null,
      "outputs": []
    },
    {
      "cell_type": "code",
      "source": [
        "# 11. Write a code that uses the lambda function calculate sum of the two numbers.\n",
        "\n",
        "sum_lambda = lambda x, y: x + y\n",
        "\n",
        "\n",
        "result = sum_lambda(5, 10)\n",
        "print(result)\n"
      ],
      "metadata": {
        "colab": {
          "base_uri": "https://localhost:8080/"
        },
        "id": "aS9_h4wrvuZu",
        "outputId": "1a7b5824-7f14-4962-ff6c-7f224b6cab5e"
      },
      "execution_count": null,
      "outputs": [
        {
          "output_type": "stream",
          "name": "stdout",
          "text": [
            "15\n"
          ]
        }
      ]
    },
    {
      "cell_type": "code",
      "source": [
        "# 12. Write a code that uses the lambda function calculate the square of given numbers.\n",
        "\n",
        "square_lambda = lambda x: x * x\n",
        "\n",
        "\n",
        "number = 12\n",
        "result = square_lambda(number)\n",
        "print(result)\n"
      ],
      "metadata": {
        "colab": {
          "base_uri": "https://localhost:8080/"
        },
        "id": "YjjTa9rZ1PfW",
        "outputId": "ba979127-d942-45f9-d8b6-20f09a60099a"
      },
      "execution_count": null,
      "outputs": [
        {
          "output_type": "stream",
          "name": "stdout",
          "text": [
            "144\n"
          ]
        }
      ]
    },
    {
      "cell_type": "code",
      "source": [
        "# 13. Write a code that uses the lambda function to check whether a given number is even or odd.\n",
        "\n",
        "\n",
        "is_even = lambda x: x % 2 == 0\n",
        "\n",
        "\n",
        "is_odd = lambda x: x % 2 != 0\n",
        "\n",
        "\n",
        "number = 24\n",
        "print(f\"{number} is even: {is_even(number)}\")\n",
        "print(f\"{number} is odd: {is_odd(number)}\")\n"
      ],
      "metadata": {
        "colab": {
          "base_uri": "https://localhost:8080/"
        },
        "id": "C0pJgAPV1PZK",
        "outputId": "dad972be-8c46-46ba-e0e5-be1df2c8c6b2"
      },
      "execution_count": null,
      "outputs": [
        {
          "output_type": "stream",
          "name": "stdout",
          "text": [
            "24 is even: True\n",
            "24 is odd: False\n"
          ]
        }
      ]
    },
    {
      "cell_type": "code",
      "source": [
        "# 14. Write a code that uses a lambda function to concatenate two strings.\n",
        "\n",
        "\n",
        "concat_strings = lambda str1, str2: str1 + str2\n",
        "\n",
        "\n",
        "string1 = \"radhe, \"\n",
        "string2 = \"shyam!\"\n",
        "result = concat_strings(string1, string2)\n",
        "print(result)\n"
      ],
      "metadata": {
        "colab": {
          "base_uri": "https://localhost:8080/"
        },
        "id": "KSBx0qE61PX7",
        "outputId": "d000097d-593b-43eb-9723-98f48746dcc5"
      },
      "execution_count": null,
      "outputs": [
        {
          "output_type": "stream",
          "name": "stdout",
          "text": [
            "radhe, shyam!\n"
          ]
        }
      ]
    },
    {
      "cell_type": "code",
      "source": [
        "# 15.  Write a code that uses a lambda function to find the maximum of three given numbers.\n",
        "\n",
        "\n",
        "max_of_three = lambda a, b, c: max(a, b, c)\n",
        "\n",
        "\n",
        "num1 = 69\n",
        "num2 = 89\n",
        "num3 = 79\n",
        "result = max_of_three(num1, num2, num3)\n",
        "print(result)\n"
      ],
      "metadata": {
        "colab": {
          "base_uri": "https://localhost:8080/"
        },
        "id": "eRgARwRF1PUb",
        "outputId": "e1e67883-93f5-4235-eb2b-e165be51ed68"
      },
      "execution_count": null,
      "outputs": [
        {
          "output_type": "stream",
          "name": "stdout",
          "text": [
            "89\n"
          ]
        }
      ]
    },
    {
      "cell_type": "code",
      "source": [
        "# 16.  Write a code that generates the squares of even numbers from a given list.\n",
        "\n",
        "def squares_of_even_numbers(numbers):\n",
        "\n",
        "    return [x**2 for x in numbers if x % 2 == 0]\n",
        "\n",
        "\n",
        "input_list = [1,5,3,6,8,5,44,2,2,9]\n",
        "squares = squares_of_even_numbers(input_list)\n",
        "print(squares)\n"
      ],
      "metadata": {
        "colab": {
          "base_uri": "https://localhost:8080/"
        },
        "id": "a9T8n_8r1PSj",
        "outputId": "77e48086-7103-4a45-b79d-1501670dd6dd"
      },
      "execution_count": null,
      "outputs": [
        {
          "output_type": "stream",
          "name": "stdout",
          "text": [
            "[36, 64, 1936, 4, 4]\n"
          ]
        }
      ]
    },
    {
      "cell_type": "code",
      "source": [
        "# 17. Write a code that calculate the product of positive numbers from a given list.\n",
        "import math\n",
        "\n",
        "def product_of_positive_numbers(numbers):\n",
        "\n",
        "    product = 1\n",
        "    has_positive = False\n",
        "\n",
        "    for num in numbers:\n",
        "        if num > 0:\n",
        "            product *= num\n",
        "            has_positive = True\n",
        "\n",
        "\n",
        "    return product if has_positive else 1\n",
        "\n",
        "\n",
        "input_list = [1, -42, 3, 74, -25, 76]\n",
        "result = product_of_positive_numbers(input_list)\n",
        "print(result)\n"
      ],
      "metadata": {
        "colab": {
          "base_uri": "https://localhost:8080/"
        },
        "id": "7Ty7N0jy1PPG",
        "outputId": "92e93558-25e9-4752-deb0-57945b0da8fd"
      },
      "execution_count": null,
      "outputs": [
        {
          "output_type": "stream",
          "name": "stdout",
          "text": [
            "16872\n"
          ]
        }
      ]
    },
    {
      "cell_type": "code",
      "source": [
        "# 18.  Write a code that doubles  the values of odd numbers from given list.\n",
        "\n",
        "def double_odd_numbers(numbers):\n",
        "\n",
        "    return [x * 2 if x % 2 != 0 else x for x in numbers]\n",
        "\n",
        "\n",
        "input_list = [1, 2, 3, 4, 5, 6, 7, 8]\n",
        "doubled_odds = double_odd_numbers(input_list)\n",
        "print(doubled_odds)\n",
        "\n"
      ],
      "metadata": {
        "colab": {
          "base_uri": "https://localhost:8080/"
        },
        "id": "cOpSaWcg1PNm",
        "outputId": "2f125e72-d6b0-430b-845e-033672b7cd37"
      },
      "execution_count": null,
      "outputs": [
        {
          "output_type": "stream",
          "name": "stdout",
          "text": [
            "[2, 2, 6, 4, 10, 6, 14, 8]\n"
          ]
        }
      ]
    },
    {
      "cell_type": "code",
      "source": [
        "# 19. Write a code that calculates the sum of cubes of numbers of a given list.\n",
        "\n",
        "def sum_of_cubes(numbers):\n",
        "\n",
        "    return sum(x**3 for x in numbers)\n",
        "\n",
        "\n",
        "input_list = [1, 2, 3, 4]\n",
        "result = sum_of_cubes(input_list)\n",
        "print(result)\n",
        "\n"
      ],
      "metadata": {
        "colab": {
          "base_uri": "https://localhost:8080/"
        },
        "id": "iv2XopK71PJj",
        "outputId": "123f1f53-6d6b-49d8-fc6e-5d8b348182bb"
      },
      "execution_count": null,
      "outputs": [
        {
          "output_type": "stream",
          "name": "stdout",
          "text": [
            "100\n"
          ]
        }
      ]
    },
    {
      "cell_type": "code",
      "source": [
        "# 20.    Write a code that filters out of prime numbers from a given list.\n",
        "\n",
        "def is_prime(number):\n",
        "\n",
        "    if number < 2:\n",
        "        return False\n",
        "    for i in range(2, int(number ** 0.5) + 1):\n",
        "        if number % i == 0:\n",
        "            return False\n",
        "    return True\n",
        "\n",
        "def filter_primes(numbers):\n",
        "\n",
        "    return [num for num in numbers if is_prime(num)]\n",
        "\n",
        "\n",
        "input_list = [1, 2, 3, 4, 5, 6, 7, 8, 9, 10]\n",
        "prime_numbers = filter_primes(input_list)\n",
        "print(prime_numbers)\n",
        "\n",
        "\n"
      ],
      "metadata": {
        "colab": {
          "base_uri": "https://localhost:8080/"
        },
        "id": "wgg9glwX1PIW",
        "outputId": "568bc76c-5757-475f-d2a6-9069f93c1f54"
      },
      "execution_count": null,
      "outputs": [
        {
          "output_type": "stream",
          "name": "stdout",
          "text": [
            "[2, 3, 5, 7]\n"
          ]
        }
      ]
    },
    {
      "cell_type": "markdown",
      "source": [
        "21. What is encapsulation in OOP.\n",
        "\n",
        "Encapsulation is a fundamental principle of Object-Oriented Programming (OOP) that refers to the practice of bundling the data (attributes) and the methods (functions) that operate on the data into a single unit, typically a class. Additionally, encapsulation involves restricting direct access to some of an object's components to prevent unintended interference and misuse. This is often achieved through access control mechanisms."
      ],
      "metadata": {
        "id": "BiLIn0c-I3eD"
      }
    },
    {
      "cell_type": "markdown",
      "source": [
        "22. Expalin the use of access modifiers in python classes.\n",
        "\n",
        "\n",
        "Access modifiers in Python classes are used to control the visibility and accessibility of class attributes and methods. While Python does not have formal access modifiers like some other programming languages (e.g., public, protected, private in Java), it uses naming conventions to indicate the intended level of access control. These conventions help in managing the encapsulation of class data and ensuring that class internals are not misused.\n",
        "\n",
        "Public Members:\n",
        "\n",
        " Members (attributes or methods) that are accessible from outside the class. They have no special prefix.\n",
        "\n",
        "Usage: Public members are intended for use by any code that interacts with the class. They define the class's interface.\n",
        "\n",
        "Protected Members:\n",
        "\n",
        " Members that are intended to be accessed only within the class and its subclasses. They are denoted with a single leading underscore (_).\n",
        "\n",
        "Usage: While not strictly enforced, this convention signals that the member is intended for internal use and should not be accessed directly by external code.\n",
        "\n",
        "Summary of Access Modifiers:\n",
        "Public Members: Accessible from anywhere. No special prefix.\n",
        "Protected Members: Intended for use within the class and its subclasses. Prefixed with a single underscore.\n",
        "Private Members: Intended for use only within the class. Prefixed with double underscores, which triggers name mangling to make access from outside more difficult.\n",
        "\n"
      ],
      "metadata": {
        "id": "dUnrn7F6JIfs"
      }
    },
    {
      "cell_type": "markdown",
      "source": [
        "23. what is imheritance in OOP.\n",
        "\n",
        "Inheritance is a core concept in Object-Oriented Programming (OOP) that allows one class (known as a subclass or derived class) to inherit attributes and methods from another class (known as a superclass or base class). This concept is essential for creating a hierarchical relationship between classes, promoting code reuse, and enabling the extension of existing functionality.\n",
        "\n",
        "\n",
        "Base Class (Superclass):\n",
        "\n",
        "  The class from which properties and methods are inherited. It serves as the parent class in the inheritance hierarchy.\n",
        "\n",
        "Derived Class (Subclass):\n",
        "\n",
        "  The class that inherits from the base class. It can access and use the properties and methods of the base class while also introducing its own attributes and methods.\n",
        "\n",
        "Access Control:\n",
        "\n",
        "1. Public Members: Accessible from outside the class.\n",
        "2. Protected Members: Intended for use within the class and its subclasses. In Python, this is typically indicated with a single leading underscore .\n",
        "3. Private Members: Restricted to the class itself. In Python, this is typically indicated with a double leading underscore .\n",
        "\n",
        "Method Overriding:\n",
        "\n",
        "  A subclass can provide a specific implementation of a method that is already defined in its base class. This allows the subclass to modify or extend the behavior of the method.\n",
        "\n",
        "Constructor Inheritance:\n",
        "\n",
        "  The constructor (__init__ method) of the base class is not inherited directly. However, a subclass can call the base class’s constructor using the super() function to initialize its inherited attributes.\n"
      ],
      "metadata": {
        "id": "4na04kz8HKI-"
      }
    },
    {
      "cell_type": "markdown",
      "source": [
        "24. Define polymorphism in OOP.\n",
        "\n",
        "Polymorphism is a fundamental concept in Object-Oriented Programming (OOP) that allows objects of different classes to be treated as objects of a common superclass.\n"
      ],
      "metadata": {
        "id": "6tUNk2taGNEx"
      }
    },
    {
      "cell_type": "markdown",
      "source": [
        " 25. Explain the method overriding in python.\n",
        "\n",
        "Inheritance:\n",
        "\n",
        "Method overriding occurs within an inheritance hierarchy. A subclass inherits methods from its superclass but can provide its own implementation for those methods.\n",
        "\n",
        "Method Signature:\n",
        "\n",
        "The method in the subclass must have the same name, parameters, and return type as the method in the superclass that it overrides.\n",
        "\n",
        "Calling Superclass Methods:\n",
        "\n",
        "The overridden method in the subclass can call the method in the superclass using the super() function, allowing it to extend or modify the behavior of the inherited method.\n",
        "\n",
        "Polymorphism:\n",
        "\n",
        "Method overriding is a key aspect of polymorphism, where a method call to a subclass object will invoke the subclass’s overridden method, not the method from the superclass.\n",
        "\n",
        "Benefits of Access Modifiers:\n",
        "Encapsulation: Helps in hiding the internal details of a class and exposing only what is necessary, which improves the class's robustness and maintainability.\n",
        "Controlled Access: Allows you to control how data is accessed and modified, preventing misuse and ensuring that the internal state remains consistent.\n",
        "Code Clarity: Provides clear intent regarding which members are meant for internal use and which are part of the public API."
      ],
      "metadata": {
        "id": "D6WgCjyMGgVz"
      }
    },
    {
      "cell_type": "code",
      "source": [
        "# 26. define a parent class animal with a method make_make sound that print \"generic animal sounds\". Create a child class dog inheriting from animal with a method make_sound that print \"woof\".\n",
        "\n",
        "class Animal:\n",
        "    def make_sound(self):\n",
        "        print(\"Generic animal sound\")\n",
        "class Dog(Animal):\n",
        "    def make_sound(self):\n",
        "        print(\"Woof!\")\n",
        "\n",
        "generic_animal = Animal()\n",
        "dog = Dog()\n",
        "\n",
        "\n",
        "generic_animal.make_sound()\n",
        "dog.make_sound()\n",
        "\n",
        "\n",
        "\n"
      ],
      "metadata": {
        "colab": {
          "base_uri": "https://localhost:8080/"
        },
        "id": "G2Qp4fGo1O4q",
        "outputId": "79dd2b7c-30d6-4359-f241-e5cdcca32a34"
      },
      "execution_count": null,
      "outputs": [
        {
          "output_type": "stream",
          "name": "stdout",
          "text": [
            "Generic animal sound\n",
            "Woof!\n"
          ]
        }
      ]
    },
    {
      "cell_type": "code",
      "source": [
        "# 27. Define method move in the animal class that prints \" animal moves \". Override the move method in the dog class to print \"dog runs\".\n",
        "\n",
        "class Animal:\n",
        "    def move(self):\n",
        "        print(\"Animal moves\")\n",
        "class Dog(Animal):\n",
        "    def move(self):\n",
        "        print(\"Dog runs\")\n",
        "\n",
        "animal = Animal()\n",
        "dog = Dog()\n",
        "\n",
        "\n",
        "animal.move()\n",
        "dog.move()\n"
      ],
      "metadata": {
        "colab": {
          "base_uri": "https://localhost:8080/"
        },
        "id": "lzuMNtMF1O0k",
        "outputId": "31cf9cba-4004-4246-aed5-c001e94502ee"
      },
      "execution_count": null,
      "outputs": [
        {
          "output_type": "stream",
          "name": "stdout",
          "text": [
            "Animal moves\n",
            "Dog runs\n"
          ]
        }
      ]
    },
    {
      "cell_type": "code",
      "source": [
        "# 28. Create a class mammal with a method reproduce that prints \"giving birth to living young\". Create a class dogmammal inheriting from both dog an mammal.\n",
        "\n",
        "class Animal:\n",
        "    def move(self):\n",
        "        print(\"Animal moves\")\n",
        "\n",
        "class Mammal:\n",
        "    def reproduce(self):\n",
        "        print(\"Giving birth to living young\")\n",
        "\n",
        "\n",
        "class Mammal:\n",
        "    def reproduce(self):\n",
        "        print(\"Giving birth to living young\")\n",
        "class DogMammal(Dog, Mammal):\n",
        "    pass\n",
        "\n",
        "dog_mammal = DogMammal()\n",
        "\n",
        "\n",
        "\n",
        "dog_mammal.reproduce()\n"
      ],
      "metadata": {
        "colab": {
          "base_uri": "https://localhost:8080/"
        },
        "id": "lU0mWwGD1OzP",
        "outputId": "10c2e058-d87e-42fc-b1b4-66570137d3a2"
      },
      "execution_count": null,
      "outputs": [
        {
          "output_type": "stream",
          "name": "stdout",
          "text": [
            "Giving birth to living young\n"
          ]
        }
      ]
    },
    {
      "cell_type": "code",
      "source": [
        "# 29. Create a class Germanshephard inheriting from dog and override the make_method to print \"Bark\".\n",
        "\n",
        "class GermanShepherd(Dog):\n",
        "    def make_sound(self):\n",
        "        print(\"Bark\")\n",
        "\n",
        "german_shepherd = GermanShepherd()\n",
        "\n",
        "\n",
        "german_shepherd.make_sound()\n"
      ],
      "metadata": {
        "colab": {
          "base_uri": "https://localhost:8080/"
        },
        "id": "aVxze-r-1OrR",
        "outputId": "ce278c57-074f-470d-8d00-ac2fdcdc2e84"
      },
      "execution_count": null,
      "outputs": [
        {
          "output_type": "stream",
          "name": "stdout",
          "text": [
            "Bark\n"
          ]
        }
      ]
    },
    {
      "cell_type": "code",
      "source": [
        "# 30. Define constructors in both the animal and dog classes with different initilization parameter.\n",
        "\n",
        "class Dog(Animal):\n",
        "    def __init__(self, name, breed):\n",
        "        super().__init__(name)\n",
        "        self.breed = breed\n",
        "\n",
        "    def make_sound(self):\n",
        "        print(\"Woof!\")\n",
        "\n",
        "\n",
        "\n",
        "\n",
        "\n",
        "\n",
        "\n",
        "\n"
      ],
      "metadata": {
        "id": "eXae-va41OmY"
      },
      "execution_count": null,
      "outputs": []
    },
    {
      "cell_type": "markdown",
      "source": [
        "31.  What is abstraction in python.How is it implemented.\n",
        "\n",
        "Abstraction in Python refers to the concept of hiding the complex implementation details of an object or function and exposing only the essential features to the user. It allows a programmer to focus on what an object does rather than how it does it. This is crucial for reducing complexity and improving the maintainability of code.\n",
        "\n",
        "implemention:\n",
        "\n",
        "Abstract Class: An abstract class is a class that cannot be instantiated on its own and is meant to be subclassed. It can contain one or more abstract methods.\n",
        "Abstract Method: An abstract method is a method that is declared in an abstract class but has no implementation in that class. Subclasses are required to provide an implementation for these methods.\n"
      ],
      "metadata": {
        "id": "TtuJ4mNAB9Bs"
      }
    },
    {
      "cell_type": "markdown",
      "source": [
        "32.  Explain in the importance of abstraction in object oriented programming.\n",
        "\n",
        "Abstraction is a core principle in Object-Oriented Programming (OOP) that plays a crucial role in simplifying complex systems and improving the quality and maintainability of code. Here’s why abstraction is important in OOP:\n",
        "\n",
        "Enhances Code Reusability:\n",
        "\n",
        "Reusable Interfaces: Abstract classes and interfaces define common behaviors that can be implemented by different classes. This encourages code reuse by allowing different classes to share the same abstract interface while providing their own specific implementations.\n",
        "Consistency: Abstraction ensures that all classes that implement a particular interface or inherit from an abstract class provide consistent behavior, making the system more predictable and easier to work with."
      ],
      "metadata": {
        "id": "p5QyfT80CsGd"
      }
    },
    {
      "cell_type": "markdown",
      "source": [
        "33. How are abstract method different from regular method in python.\n",
        "\n",
        "Abstract Methods:\n",
        "\n",
        "Purpose: An abstract method is a method that is declared within an abstract class but does not have an implementation in the abstract class itself. It serves as a blueprint for subclasses, forcing them to provide a concrete implementation of the method.\n",
        "\n",
        "Regular Methods:\n",
        "\n",
        "Purpose: A regular method is a fully implemented method in a class. It contains a block of code that performs a specific task and can be called directly on an instance of the class.\n",
        "Definition: Regular methods are defined using the standard Python syntax without any special decorators."
      ],
      "metadata": {
        "id": "bIE6w4DaEP2X"
      }
    },
    {
      "cell_type": "code",
      "source": [
        "# 34. implement a class bank account  with a provide balance attibute, include method to deposites. withdraw and check the balance.\n",
        "\n",
        "class BankAccount:\n",
        "    def __init__(self, initial_balance=0):\n",
        "        self.__balance = initial_balance\n",
        "\n",
        "\n",
        "    def deposit(self, amount):\n",
        "        if amount > 0:\n",
        "            self.__balance += amount\n",
        "            print(f\"Deposited: ${amount}\")\n",
        "        else:\n",
        "            print(\"Deposit amount must be positive.\")\n",
        "\n",
        "\n",
        "    def withdraw(self, amount):\n",
        "        if amount > 0:\n",
        "            if amount <= self.__balance:\n",
        "                self.__balance -= amount\n",
        "                print(f\"Withdrawn: ${amount}\")\n",
        "            else:\n",
        "                print(\"Insufficient funds.\")\n",
        "        else:\n",
        "            print(\"Withdrawal amount must be positive.\")\n",
        "\n",
        "\n",
        "    def check_balance(self):\n",
        "        return self.__balance\n",
        "\n",
        "\n",
        "account = BankAccount(500)\n",
        "account.deposit(75)\n",
        "print(f\"Current balance: ${account.check_balance()}\")\n",
        "account.withdraw(50)\n",
        "print(f\"Current balance: ${account.check_balance()}\")\n",
        "\n",
        "account.withdraw(230)\n",
        "print(f\"Current balance: ${account.check_balance()}\")\n"
      ],
      "metadata": {
        "id": "oPuxPkurSZ8w",
        "colab": {
          "base_uri": "https://localhost:8080/"
        },
        "outputId": "64f79ba8-0792-46ca-92cc-7b2b23b7a96b"
      },
      "execution_count": null,
      "outputs": [
        {
          "output_type": "stream",
          "name": "stdout",
          "text": [
            "Deposited: $75\n",
            "Current balance: $575\n",
            "Withdrawn: $50\n",
            "Current balance: $525\n",
            "Withdrawn: $230\n",
            "Current balance: $295\n"
          ]
        }
      ]
    },
    {
      "cell_type": "code",
      "source": [
        "# 35. develop the person class with private attribute name and email, and methods  to set and get the email.\n",
        "\n",
        "class Person:\n",
        "    def __init__(self, name, email):\n",
        "        self.__name = name\n",
        "        self.__email = email\n",
        "\n",
        "\n",
        "    def set_email(self, email):\n",
        "        self.__email = email\n",
        "\n",
        "\n",
        "    def get_email(self):\n",
        "        return self.__email\n",
        "\n",
        "\n",
        "person = Person(\"ramakanti\", \"ramakanti@pwskills.com\")\n",
        "print(person.get_email())\n",
        "person.set_email(\"new.email@pwskilss.com\")\n",
        "print(person.get_email())\n"
      ],
      "metadata": {
        "colab": {
          "base_uri": "https://localhost:8080/"
        },
        "id": "pCzRAWSU7YSB",
        "outputId": "8b2a0410-c2a3-4d95-b38a-20fa98c287e8"
      },
      "execution_count": null,
      "outputs": [
        {
          "output_type": "stream",
          "name": "stdout",
          "text": [
            "ramakanti@pwskills.com\n",
            "new.email@pwskilss.com\n"
          ]
        }
      ]
    },
    {
      "cell_type": "code",
      "source": [],
      "metadata": {
        "id": "1rZepV5qF7Lx"
      },
      "execution_count": null,
      "outputs": []
    },
    {
      "cell_type": "markdown",
      "source": [
        "# New Section"
      ],
      "metadata": {
        "id": "VCU-XngbFKVE"
      }
    },
    {
      "cell_type": "code",
      "source": [],
      "metadata": {
        "id": "5XbyBpeh7YOk"
      },
      "execution_count": null,
      "outputs": []
    },
    {
      "cell_type": "code",
      "source": [],
      "metadata": {
        "id": "qYx6alzi7YL5"
      },
      "execution_count": null,
      "outputs": []
    }
  ]
}